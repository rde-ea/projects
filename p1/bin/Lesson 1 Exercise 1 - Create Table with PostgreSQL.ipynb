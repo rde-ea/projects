{
 "cells": [
  {
   "cell_type": "code",
   "execution_count": 24,
   "id": "795a6d72",
   "metadata": {},
   "outputs": [],
   "source": [
    "## Import the library\n",
    "import psycopg2"
   ]
  },
  {
   "cell_type": "code",
   "execution_count": 25,
   "id": "79a9b4ca",
   "metadata": {},
   "outputs": [
    {
     "name": "stdout",
     "output_type": "stream",
     "text": [
      "Successful\n"
     ]
    }
   ],
   "source": [
    "# Connection setup but the error doesnt seems to work. \n",
    "# Maybe try some doc for getting errors and learn how to debug psycopg2 errors\n",
    "\n",
    "try :\n",
    "    conn=psycopg2.connect(\"host=127.0.0.1 dbname=postgres user=postgres password=admin\")\n",
    "except psycopg2.Error as e : \n",
    "    print(\"Error : Could not connect to the Postgres database\")\n",
    "else :\n",
    "    print('Successful')"
   ]
  },
  {
   "cell_type": "code",
   "execution_count": null,
   "id": "d583ef76",
   "metadata": {},
   "outputs": [],
   "source": []
  }
 ],
 "metadata": {
  "kernelspec": {
   "display_name": "Python 3 (ipykernel)",
   "language": "python",
   "name": "python3"
  },
  "language_info": {
   "codemirror_mode": {
    "name": "ipython",
    "version": 3
   },
   "file_extension": ".py",
   "mimetype": "text/x-python",
   "name": "python",
   "nbconvert_exporter": "python",
   "pygments_lexer": "ipython3",
   "version": "3.9.7"
  }
 },
 "nbformat": 4,
 "nbformat_minor": 5
}
